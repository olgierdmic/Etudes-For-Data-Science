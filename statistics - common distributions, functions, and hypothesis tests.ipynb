{
 "cells": [
  {
   "cell_type": "markdown",
   "metadata": {},
   "source": [
    "### Discrete Distributions\n",
    "\n",
    "Bernoulli distribution          \n",
    "> takes value 1 when an experiment succeeds and 0 otherwise; eg coin tossing with uneven coin\n",
    "\n",
    "    from scipy.stats import bernoulli\n",
    "\n",
    "\n",
    "Binomial distribution\t        \n",
    "> number of successes in n trials (models the sum of independent Bernoulli random variables); eg counting errors/successes\n",
    "\n",
    "    from scipy.stats import binom\n",
    "    \n",
    "\n",
    "Geometric distribution\t        \n",
    "> number of failures before the first success; eg trying until success\n",
    "\n",
    "    from scipy.stats import geom     \n",
    "    \n",
    "    \n",
    "Negative binomial distribution\t\n",
    "> The negative binomial tells you the number of trials until a specified number of successes in a binomial\n",
    "distribution.\n",
    "\n",
    "    from scipy.stats import nbinom           \n",
    "\n",
    "\n",
    "Hypergeometric distributions\n",
    "> A variant on the geometric distribution\n",
    "model, hypergeometric distributions give the probability that some\n",
    "number from a sample will be of a particular value — the probability\n",
    "of drawing a female from a set of males and females, for example. In\n",
    "hypergeometric distributions, there are no replacements when samples\n",
    "are taken from a finite population. As samples are drawn, the size of the\n",
    "remaining population decreases and the probability of drawing a male or\n",
    "a female sample changes based on the net decrease in the population size.\n",
    "\n",
    "    from scipy.stats import hypergeom\n",
    "\n",
    "\n",
    "Poisson distribution            \n",
    "> distribution of the total number of occurrences of an event within a given unit of time (models the number of unpredictable events within a unit of time)   \n",
    "$$ \n",
    "P(X) = \\frac{\\lambda^k}{k!}e^{-\\lambda}\n",
    "$$\n",
    "where: $ \\lambda $ - the mean rate of occurrence of some even,  k - the number of actually observed occurrences for which we calculate the probability; eg countable, rare events whose occurrence is independent\n",
    "\n",
    "    from scipy.stats import poisson\n",
    "\n",
    "\n",
    "Gamma\n",
    "> The gamma distribution tells you how many samples you go through to find a specified number of successes in a Poisson distribution.\n",
    "    "
   ]
  },
  {
   "cell_type": "markdown",
   "metadata": {},
   "source": [
    "### Continuous Distributions\n",
    "\n",
    "\n",
    "Uniform\n",
    "> eg rolling a dice\n",
    "    np.random.uniform\n",
    "    \n",
    "    from scipy.stats import uniform\n",
    "\n",
    "Gaussian\n",
    "> eg random “noise”, sums of many variables\n",
    "\n",
    "    from scipy.stats import norm\n",
    "    \n",
    "Lognormal distribution          \n",
    "> distribution whose logarithm has a normal distribution (the income of a family follows a lognormal distribution)\n",
    "    \n",
    "    from scipy.stats import lognorm\n",
    "    \n",
    "\n",
    "T\n",
    "> the ratio between the sample mean and the standard error has the T distribution\n",
    "\n",
    "    from scipy.stats import t\n",
    "    \n",
    "    \n",
    "F\n",
    "> If we want to investigate whether two groups have the same variance, we have to\n",
    "calculate the ratio of the sample standard deviations squared: \n",
    "$$\n",
    "F = \\frac{s^2_x}{s^2_y}\n",
    "$$\n",
    "\n",
    "    from scipy.stats import f\n",
    "\n",
    "\n",
    "Exponential distribution        \n",
    "> distribution of the time we need to wait before an event occurs if the probability that the event occurs during a certain time interval  is proportional to the length of that time interval. (models the waiting time between two events in a Poisson process;  the Poisson (discrete) and exponential (continuous) distributions complement one another.)\n",
    "\n",
    "    from scipy.stats import expon\n",
    "    \n",
    "    \n",
    "Weibull Distribution\n",
    "> The Weibull distribution is the most commonly used distribution for modeling\n",
    "reliability data or “survival” data. If the quantity x is a “time-to-failure,” the Weibull distribution gives a distribution for which the failure rate is proportional to a power of time. \n",
    "- A value of k < 1 indicates that the failure rate decreases over time. This happens\n",
    "if there is significant “infant mortality,” or defective items failing early and the\n",
    "failure rate decreasing over time as the defective items are weeded out of the\n",
    "population.\n",
    "- A value of k D 1 indicates that the failure rate is constant over time. This might\n",
    "suggest random external events are causing mortality, or failure.\n",
    "- A value of k > 1 indicates that the failure rate increases with time. This happens\n",
    "if there is an “aging” process, or parts that are more likely to fail as time goes on.\n",
    "An example would be products with a built-in weakness that fail soon after the\n",
    "warranty expires.\n",
    "\n",
    "    from scipy.stats import weibull_min, weibull_max\n",
    "    \n",
    "\n",
    "Cauchy distribution             \n",
    "> distribution describing resonance behavior\n",
    "\n",
    "    from scipy.stats import cauchy\n",
    "    \n",
    "\n",
    "Beta\n",
    "> Beta distribution represents a probability distribution of probabilities, ie it represents all probability values with a probability distribution. Eg for a binomia distribution $B(\\alpha,\\beta)$, where: $\\alpha$ - number of successes, $\\beta$ - number of failures\n",
    "\n",
    "    from scipy.stats import beta\n",
    "\n",
    "\n",
    "Gamma\n",
    "> ...\n",
    "\n",
    "    from scipy.stats import gamma\n",
    "    \n",
    "    "
   ]
  },
  {
   "cell_type": "markdown",
   "metadata": {},
   "source": [
    "### Functions\n",
    "\n",
    "**Probit** -  inverse of the cumulative distribution function of the standard normal distribution\n",
    "\n",
    "**Logit** - gives the log-odds or the logarithm of the odds p/(1 − p) \n",
    "\n",
    "$$\n",
    "logit(p) = log(\\frac{p}{1-p}) = \\beta_0 + \\beta_1 * x\n",
    "$$\n",
    "_The log odds is expressed as a linear function of score. Solve for p as a function of x to get:_\n",
    "$$\n",
    "P(x) = \\frac{1}{1 + e^{-(\\beta_0 + \\beta_1*x)}}\n",
    "$$"
   ]
  },
  {
   "cell_type": "code",
   "execution_count": 1,
   "metadata": {},
   "outputs": [],
   "source": [
    "from scipy.stats import norm"
   ]
  },
  {
   "cell_type": "code",
   "execution_count": 2,
   "metadata": {},
   "outputs": [
    {
     "data": {
      "image/png": "[encoded data removed]",
      "text/plain": [
       "<Figure size 864x216 with 4 Axes>"
      ]
     },
     "metadata": {
      "needs_background": "light"
     },
     "output_type": "display_data"
    }
   ],
   "source": [
    "plt.figure(figsize=(12,3))\n",
    "\n",
    "plt.subplot(141)\n",
    "x = np.linspace(-5,5)\n",
    "plt.plot(x, norm.pdf(x))\n",
    "plt.title(\"PDF\")\n",
    "\n",
    "plt.subplot(142)\n",
    "x = np.linspace(-5,5)\n",
    "plt.plot(x, norm.cdf(x))\n",
    "plt.title(\"CDF\")\n",
    "\n",
    "plt.subplot(143)\n",
    "x = np.linspace(0,1)\n",
    "plt.plot(x, norm.ppf(x))  # percent point function, inverse of cdf, ie probit\n",
    "plt.title(\"PPF (Probit)\")\n",
    "\n",
    "plt.subplot(144)\n",
    "x = np.linspace(-5,5)\n",
    "logit = lambda x: 1/(1 + np.exp(-x))\n",
    "plt.plot(x, logit(x))\n",
    "plt.title(\"Logit\");"
   ]
  },
  {
   "cell_type": "markdown",
   "metadata": {},
   "source": [
    "### Scipy Methods\n",
    "\n",
    "    rvs: Random Variates\n",
    "    pdf: Probability Density Function (for continuous distributions)\n",
    "    pmf: Probability Mass Function (for discrete distributions)\n",
    "    cdf: Cumulative Distribution Function\n",
    "    sf: Survival Function (1-CDF)\n",
    "    ppf: Percent Point Function (Inverse of CDF)\n",
    "    isf: Inverse Survival Function (Inverse of SF)\n",
    "    stats: Return mean, variance, (Fisher’s) skew, or (Fisher’s) kurtosis\n",
    "    moment: non-central moments of the distribution\n",
    "    \n",
    "\n",
    "The estimation of distribution parameters:\n",
    "\n",
    "    fit: maximum likelihood estimation of distribution parameters, including location and scale\n",
    "    fit_loc_scale: estimation of location and scale when shape parameters are given\n",
    "    nnlf: negative log likelihood function\n",
    "    expect: Calculate the expectation of a function against the pdf or pmf\n"
   ]
  },
  {
   "cell_type": "code",
   "execution_count": 3,
   "metadata": {},
   "outputs": [
    {
     "data": {
      "image/png": "[encoded data removed]",
      "text/plain": [
       "<Figure size 432x288 with 1 Axes>"
      ]
     },
     "metadata": {
      "needs_background": "light"
     },
     "output_type": "display_data"
    }
   ],
   "source": [
    "import scipy as sp\n",
    "trvs = sp.stats.t.rvs(df=10, loc=0, scale=1, size=1000)\n",
    "plt.hist(trvs,bins=30);"
   ]
  },
  {
   "cell_type": "code",
   "execution_count": 4,
   "metadata": {},
   "outputs": [
    {
     "data": {
      "text/plain": [
       "'n:1000, (min,max): (-3.6309260032279234, 4.328863785283673), mean: -0.00235565812663743, var: 1.183334517310308, skew: -0.05475699820854659, kurt: 0.7186479666174321'"
      ]
     },
     "execution_count": 4,
     "metadata": {},
     "output_type": "execute_result"
    }
   ],
   "source": [
    "n, (smin, smax), smean, svariance, skew, skurtosis = sp.stats.describe(trvs)\n",
    "f\"n:{n}, (min,max): {smin, smax}, mean: {smean}, var: {svariance}, skew: {skew}, kurt: {skurtosis}\""
   ]
  },
  {
   "cell_type": "code",
   "execution_count": 5,
   "metadata": {},
   "outputs": [
    {
     "data": {
      "text/plain": [
       "(array(0.), array(1.25), array(0.), array(1.))"
      ]
     },
     "execution_count": 5,
     "metadata": {},
     "output_type": "execute_result"
    }
   ],
   "source": [
    "tmean, tvariance, tskew, tkurtosis = sp.stats.t.stats(10, moments='mvsk')\n",
    "tmean, tvariance, tskew, tkurtosis"
   ]
  },
  {
   "cell_type": "code",
   "execution_count": 6,
   "metadata": {},
   "outputs": [
    {
     "name": "stdout",
     "output_type": "stream",
     "text": [
      "t-statistic = -0.068, pvalue = 0.9454\n"
     ]
    }
   ],
   "source": [
    "# use the t-test to test it the sample mean differs statistcally significantly from the theoretical expectation\n",
    "# p-value is the prob. that the sample mean is 0\n",
    "print( 't-statistic = %6.3f, pvalue = %6.4f' %  sp.stats.ttest_1samp(trvs, tmean) )"
   ]
  },
  {
   "cell_type": "code",
   "execution_count": 7,
   "metadata": {},
   "outputs": [
    {
     "name": "stdout",
     "output_type": "stream",
     "text": [
      "KS-statistic D =  0.027, pvalue = 0.4476\n"
     ]
    }
   ],
   "source": [
    "# the Kolmogorov-Smirnov test can test the hypothesis that the sample comes from the standard t-distribution\n",
    "# if the p-value is high then we cannot reject the null hypothesis that \n",
    "# the sample is distributed here according to the t-distribution.\n",
    "print( 'KS-statistic D = %6.3f, pvalue = %6.4f' % sp.stats.kstest(trvs, 't', (10,)) )"
   ]
  },
  {
   "cell_type": "code",
   "execution_count": 8,
   "metadata": {},
   "outputs": [
    {
     "name": "stdout",
     "output_type": "stream",
     "text": [
      "KS-statistic D =  0.021, pvalue = 0.7886\n"
     ]
    }
   ],
   "source": [
    "# if the Kolmogorov-Smirnov test against the standard normal distribution gives high p-value,\n",
    "# then we cannot reject the null hypothesis that our sample was generated by the normal distribution\n",
    "print( 'KS-statistic D = %6.3f, pvalue = %6.4f' % sp.stats.kstest(trvs,'norm') )"
   ]
  },
  {
   "cell_type": "code",
   "execution_count": 9,
   "metadata": {},
   "outputs": [],
   "source": [
    "# The chisquare test can be used eg to test if for a finite number of bins, \n",
    "# the observed frequencies differ significantly from the hypothesized distribution probabilites."
   ]
  },
  {
   "cell_type": "code",
   "execution_count": 10,
   "metadata": {},
   "outputs": [
    {
     "data": {
      "text/plain": [
       "array([       -inf, -2.76376946, -1.81246112, -1.37218364,  1.37218364,\n",
       "        1.81246112,  2.76376946,         inf])"
      ]
     },
     "execution_count": 10,
     "metadata": {},
     "output_type": "execute_result"
    }
   ],
   "source": [
    "quantiles = [0.0, 0.01, 0.05, 0.1, 1-.1, 1-0.05, 1-0.01, 1.0]\n",
    "t_ppf = sp.stats.t.ppf(quantiles, 10)\n",
    "t_ppf"
   ]
  },
  {
   "cell_type": "code",
   "execution_count": 11,
   "metadata": {},
   "outputs": [
    {
     "data": {
      "text/plain": [
       "(array([0.01, 0.04, 0.05, 0.8 , 0.05, 0.04, 0.01]),\n",
       " array([0.00285689, 0.03210059, 0.05004565, 0.82999372, 0.05004565,\n",
       "        0.03210059, 0.00285689]))"
      ]
     },
     "execution_count": 11,
     "metadata": {},
     "output_type": "execute_result"
    }
   ],
   "source": [
    "n_sample = trvs.size\n",
    "freqcount = np.histogram(trvs, bins=t_ppf)[0]\n",
    "tprob = np.diff(quantiles)\n",
    "nprob = np.diff(sp.stats.norm.cdf(t_ppf))\n",
    "tprob, nprob"
   ]
  },
  {
   "cell_type": "code",
   "execution_count": 12,
   "metadata": {},
   "outputs": [
    {
     "name": "stdout",
     "output_type": "stream",
     "text": [
      "chisquare for normal: chi2 = 56.813, pvalue = 0.0000\n",
      "chisquare for t:      chi2 =  9.880, pvalue = 0.1298\n"
     ]
    }
   ],
   "source": [
    "nch, npval = sp.stats.chisquare(freqcount, nprob*n_sample)\n",
    "tch, tpval = sp.stats.chisquare(freqcount, tprob*n_sample)\n",
    "\n",
    "# the standard normal distribution is clearly rejected\n",
    "print( 'chisquare for normal: chi2 = %6.3f, pvalue = %6.4f' % (nch, npval) )\n",
    "# the standard t-distribution cannot be rejected\n",
    "print( 'chisquare for t:      chi2 = %6.3f, pvalue = %6.4f' % (tch, tpval) )"
   ]
  },
  {
   "cell_type": "code",
   "execution_count": 13,
   "metadata": {},
   "outputs": [
    {
     "name": "stdout",
     "output_type": "stream",
     "text": [
      "chisquare for normal: chi2 = 27.272, pvalue = 0.0001\n",
      "chisquare for t:      chi2 =  8.235, pvalue = 0.2214\n"
     ]
    }
   ],
   "source": [
    "# the fit method of the distributions can be used to estimate the parameters of the distribution\n",
    "nloc, nscale = sp.stats.norm.fit(trvs)\n",
    "nprob = np.diff(sp.stats.norm.cdf(t_ppf, loc=nloc, scale=nscale))\n",
    "tdof, tloc, tscale = sp.stats.t.fit(trvs)\n",
    "tprob = np.diff(sp.stats.t.cdf(t_ppf, tdof, loc=tloc, scale=tscale))\n",
    "\n",
    "# the tests are repeated using probabilites of the estimated distribution,\n",
    "# here, we cannot reject the null hypotheses that the sample came from normal or t distribution\n",
    "nch, npval = sp.stats.chisquare(freqcount, nprob*n_sample)\n",
    "tch, tpval = sp.stats.chisquare(freqcount, tprob*n_sample)\n",
    "print ('chisquare for normal: chi2 = %6.3f, pvalue = %6.4f' % (nch, npval))\n",
    "print ('chisquare for t:      chi2 = %6.3f, pvalue = %6.4f' % (tch, tpval))"
   ]
  },
  {
   "cell_type": "code",
   "execution_count": 14,
   "metadata": {},
   "outputs": [
    {
     "name": "stdout",
     "output_type": "stream",
     "text": [
      "normal skewtest teststat = -0.712, pvalue = 0.4767\n",
      "normal kurtosistest teststat =  3.626, pvalue = 0.0003\n",
      "normaltest teststat = 13.653, pvalue = 0.0011\n"
     ]
    }
   ],
   "source": [
    "# test if skew and kurtosis of the sample differ significantly from those of a normal distribution\n",
    "# if p-values are low, we can reject the hypothesis that our sample has the skew and kurtosis of normal distribution.\n",
    "print ('normal skewtest teststat = %6.3f, pvalue = %6.4f' % sp.stats.skewtest(trvs))\n",
    "print ('normal kurtosistest teststat = %6.3f, pvalue = %6.4f' % sp.stats.kurtosistest(trvs))\n",
    "print ('normaltest teststat = %6.3f, pvalue = %6.4f' % sp.stats.normaltest(trvs))"
   ]
  },
  {
   "cell_type": "code",
   "execution_count": 15,
   "metadata": {},
   "outputs": [
    {
     "name": "stdout",
     "output_type": "stream",
     "text": [
      "normaltest of t-dist: teststat =  6.672, pvalue = 0.0356\n",
      "normaltest of norm-dist: teststat =  3.619, pvalue = 0.1637\n"
     ]
    }
   ],
   "source": [
    "print ('normaltest of t-dist: teststat = %6.3f, pvalue = %6.4f' % sp.stats.normaltest(sp.stats.t.rvs(10, size=100)))\n",
    "print ('normaltest of norm-dist: teststat = %6.3f, pvalue = %6.4f' % sp.stats.normaltest(sp.stats.norm.rvs(size=1000)))"
   ]
  },
  {
   "cell_type": "markdown",
   "metadata": {},
   "source": [
    "### The Standard Error of the Mean (SEM)\n",
    "\n",
    "The SEM enables you to establish a range around a sample mean that the majority of any future experiments will most likely fall within. 1-SEM will usually envelops 68% of the future means and 2-SEMs envelop 95% of the future means. 2-SEMs are called the “estimated 95% confidence interval”.\n",
    "\n",
    "Sometimes when you cannot perform at least 20-30 experiments, bootstrapping the confidence intervals is a more accurate method of determining the 95% confidence interval around your experimental mean. Oftetimes, bootstrapped 95% confidence intervals provide more accurate confidence intervals than 95% confidence intervals estimated from the SEM."
   ]
  },
  {
   "cell_type": "markdown",
   "metadata": {},
   "source": [
    "### One-sample, One-measure"
   ]
  },
  {
   "cell_type": "raw",
   "metadata": {
    "collapsed": true
   },
   "source": [
    "sp.stats.ttest_1samp(sample, pmean)  # 2-sided test for null hypothesis \n",
    "                                     # that the sample mean is equal to the population mean"
   ]
  },
  {
   "cell_type": "raw",
   "metadata": {},
   "source": [
    "sp.stats.wilcoxon() # nonparametric, rank test, for paired case"
   ]
  },
  {
   "cell_type": "raw",
   "metadata": {
    "collapsed": true
   },
   "source": [
    "sp.stats.mannwhitneyu() # nonparametric, rank test, for non-paired case"
   ]
  },
  {
   "cell_type": "markdown",
   "metadata": {},
   "source": [
    "### Two-samples, One-measure"
   ]
  },
  {
   "cell_type": "raw",
   "metadata": {
    "collapsed": true
   },
   "source": [
    "sp.stats.ttest_ind(sample1, sample2)  # for 2 independent samples\n",
    "sp.stats.ttest_rel(sample1, sample2)  # for 2 related, or paired, samples"
   ]
  },
  {
   "cell_type": "markdown",
   "metadata": {},
   "source": [
    "### Hypothesis Testing"
   ]
  },
  {
   "cell_type": "markdown",
   "metadata": {},
   "source": [
    "A hypothesis test uses a sample to test hypotheses about the population from which the sample is drawn. This helps\n",
    "you make decisions or draw conclusions about the population. A hypothesis test has the following components:\n",
    "\n",
    "Null hypothesis (denoted H0 ) is a hypothesis about the population from which a sample or samples are drawn.\n",
    "It is usually a hypothesis about the value of an unknown parameter such as the population mean or variance,\n",
    "e.g. H0 : The population mean is equal to five. The null hypothesis is adopted unless proven false.\n",
    "\n",
    "Alternative hypothesis (denoted H1 or HA ) is the hypothesis that will be accepted if there is enough evidence to reject the null hypothesis.\n",
    "\n",
    "Test statistic is a statistic calculated from the sample values, which has a known distribution under the null\n",
    "hypothesis. It varies depending on the type of test and has no direct interpretation.\n",
    "\n",
    "p-value gives the probability of observing the test statistic or something more extreme, assuming that the null\n",
    "hypothesis is true. If this is very small, then it suggests that the null hypothesis is not feasible, giving evidence in support of the alternative hypothesis.\n",
    "\n",
    "Significance level (denoted a) is the cut-off point at which the null hypothesis is rejected. The significance\n",
    "level should be determined before beginning the test. Usually a significance level of 0.05 is used, but 0.01 and\n",
    "0.1 are also popular choices. If a significance level of 0.05 is used, then we reject the null hypothesis in favor of\n",
    "the alternative hypothesis only if the p-value is less than 0.05. Otherwise, no conclusion is drawn. Choosing a\n",
    "significance level of 0.05 means that if the null hypothesis were true, there would be a 5% chance of incorrectly\n",
    "rejecting it (i.e., making a type I error)."
   ]
  },
  {
   "cell_type": "markdown",
   "metadata": {},
   "source": [
    "\n",
    "- ttest_1samp\n",
    "> Compare one sample with a constant value (one sample t-test)\n",
    "\n",
    "- ttest_ind(a, b[, axis, equal_var]) \n",
    "> Calculates the T-test for the means of TWO INDEPENDENT samples of scores.\n",
    ">compare the means of two samples (two sample t-test and paired t-test)\n",
    "\n",
    "- ttest_rel(a, b[, axis])\n",
    ">Calculates the T-test on TWO RELATED samples of scores, a and b.\n",
    ">compare the means of two samples (two sample t-test and paired t-test)\n",
    "\n",
    "- ranksums\n",
    ">Wilcoxon rank-sum tests (the non-parametric alternative to the t-test; one-sample, two-sample, paired)\n",
    "\n",
    "- shapiro\n",
    "> Perform the Shapiro-Wilk test for normality; determine whether a sample has been drawn from a normal\n",
    "distribution. The null hypothesis for the test is that the sample is drawn from a normal distribution and the alternative hypothesis is that it is not\n",
    "\n",
    "- kstest, ks_2samp\n",
    " > Kolmogorov-Smirnov tests for fit to a distribution\n",
    "\n",
    " > A one-sample Kolmogorov-Smirnov test helps to determine whether a sample is drawn from a particular theoretical\n",
    "distribution. It has the null hypothesis that the sample is drawn from the distribution and the alternative hypothesis that it is not. \n",
    "\n",
    " > A two-sample Kolmogorov-Smirnov test helps to determine whether two samples are drawn from the same\n",
    "distribution. It has the null hypothesis that they are drawn from the same distribution and the alternative hypothesis that they are not.\n",
    "\n",
    "- mannwhitneyu\n",
    ">The MWW RankSum test is a useful test to determine if two distributions are significantly different or not. \n",
    "\n",
    "- chisquare\n",
    " > The chi square test tests the null hypothesis that the categorical data has the given frequencies; tests if the observed frequencies differ significantly from the probabilites of the hypothesized/expected distribution\n",
    "\n",
    "- chi2_contingency, contingency.expected_freq\n",
    " > Chi-square test of independence of variables in a contingency table; A test of proportions allows you to compare the proportion of observations with a given outcome or attribute (referred to as a success) across two or more groups of observations to determine whether they are significantly different. The null hypothesis for the test is that the probability of a success is the same for all of the groups, and the alternative hypothesis is that the probability of success is not the same for all of the groups.\n",
    "\n",
    " > contingency.expected_freq(observed) \tCompute the expected frequencies from a contingency table.\n",
    "\n",
    " > nonparametric test for relatioinship when working with cross-tables; aplicable to both categoricals and numerics (after it has been discretized into bins); tells when the table dist of two variables is statistically comparable to a table in which the two variables are hypothesized as not related to each other (the so called independence hypothesis); the p-value is the chance that the chhi-square difference is just by chance\n",
    "\n",
    "- fisher_exact\n",
    ">Performs a Fisher exact test on a 2x2 contingency table. test for association between two categorical variables that each have two levels. The test has the null\n",
    "hypothesis that the two variables are independent and the alternative hypothesis that they are not independent.\n",
    "\n",
    "- f_oneway\n",
    ">analysis of variance to compare the means of three or more samples\n",
    "\n",
    "- kruskal\n",
    ">Compute the Kruskal-Wallis H-test for independent samples; Kruskal-Wallis test (the nonparametric alternative to the analysis of variance, which can be used when the distribution of the values is unknown)\n",
    "\n",
    "- bartlett\n",
    "> Perform Bartlett’s test for equal variances\n",
    "\n",
    "- levene\n",
    "> Perform Levene test for equal variances.compare the variances of two or more samples using an F-test or Bartlett’s test\n",
    "\n",
    "- binom_test\t\n",
    ">Perform a test that the probability of success is p\n"
   ]
  },
  {
   "cell_type": "code",
   "execution_count": 16,
   "metadata": {},
   "outputs": [
    {
     "name": "stdout",
     "output_type": "stream",
     "text": [
      "Test Statistic: 12.799999999999999\n",
      "p-value: 0.02532683564059108\n"
     ]
    }
   ],
   "source": [
    "# Chi2 can assess the relationships between binned numeric variables, \n",
    "# even in the presence of strong non-linearity, contrary to the other correlation measures;\n",
    "# it can inform us of a possible association.\n",
    "\n",
    "# 2 dice black and red, we roll 60x\n",
    "expected_counts = [10,10,10,10,10,10]\n",
    "black = [9,10,12,11,8,10]\n",
    "red   = [6,3,16,15,11,9]\n",
    " \n",
    "chi2, p = sp.stats.chisquare( f_obs=red, f_exp=expected_counts )\n",
    "msg = \"Test Statistic: {}\\np-value: {}\"\n",
    "print( msg.format( chi2, p ) )"
   ]
  },
  {
   "cell_type": "code",
   "execution_count": 17,
   "metadata": {},
   "outputs": [
    {
     "data": {
      "text/plain": [
       "(9.999815802502738, 0.0015655588405593997, 1, array([[26.1954023, 16.8045977],\n",
       "        [26.8045977, 17.1954023]]))"
      ]
     },
     "execution_count": 17,
     "metadata": {},
     "output_type": "execute_result"
    }
   ],
   "source": [
    "from scipy.stats import chi2_contingency as chi2  \n",
    "# example 1\n",
    "chi2( [[19,24],[34,10]], correction=False )  "
   ]
  },
  {
   "cell_type": "code",
   "execution_count": 18,
   "metadata": {},
   "outputs": [
    {
     "data": {
      "text/plain": [
       "(2.745733723768528, 0.0975143065261677, 1, array([[28.81690141,  4.18309859],\n",
       "        [33.18309859,  4.81690141]]))"
      ]
     },
     "execution_count": 18,
     "metadata": {},
     "output_type": "execute_result"
    }
   ],
   "source": [
    "# example 2\n",
    "chi2( [[26,7],[36,2]], correction=True ) "
   ]
  },
  {
   "cell_type": "code",
   "execution_count": 19,
   "metadata": {},
   "outputs": [
    {
     "data": {
      "text/plain": [
       "(15.078915429532476,\n",
       " 0.01965173127671819,\n",
       " 6,\n",
       " array([[202.2752809 ,  15.96910112, 108.58988764,  52.16573034],\n",
       "        [177.7247191 ,  14.03089888,  95.41011236,  45.83426966],\n",
       "        [380.        ,  30.        , 204.        ,  98.        ]]))"
      ]
     },
     "execution_count": 19,
     "metadata": {},
     "output_type": "execute_result"
    }
   ],
   "source": [
    "# example 3 \n",
    "chi2( [[180,14,120,65],[200,16,84,33],[380,30,204,98]], correction=False )"
   ]
  },
  {
   "cell_type": "code",
   "execution_count": 20,
   "metadata": {},
   "outputs": [
    {
     "data": {
      "text/plain": [
       "(0.030303030303030304, 0.0013797280926100372)"
      ]
     },
     "execution_count": 20,
     "metadata": {},
     "output_type": "execute_result"
    }
   ],
   "source": [
    "from scipy.stats import fisher_exact as fe \n",
    "# example 1\n",
    "fe([[1,9],[11,3]], \"less\")  "
   ]
  },
  {
   "cell_type": "code",
   "execution_count": 21,
   "metadata": {},
   "outputs": [
    {
     "data": {
      "text/plain": [
       "(22.5, 0.0041560102301790285)"
      ]
     },
     "execution_count": 21,
     "metadata": {},
     "output_type": "execute_result"
    }
   ],
   "source": [
    "# example 2\n",
    "fe([[9,4],[1,10]], \"greater\") "
   ]
  },
  {
   "cell_type": "code",
   "execution_count": 22,
   "metadata": {},
   "outputs": [
    {
     "data": {
      "text/plain": [
       "(1.0, 0.0)"
      ]
     },
     "execution_count": 22,
     "metadata": {},
     "output_type": "execute_result"
    }
   ],
   "source": [
    "r = sp.stats.norm.rvs(size=1000)\n",
    "r2 = sp.stats.norm.rvs(size=1000)\n",
    "sp.stats.pearsonr(r,r) # Pearson correlation coefficient and the p-value for testing non-correlation."
   ]
  },
  {
   "cell_type": "code",
   "execution_count": 23,
   "metadata": {},
   "outputs": [
    {
     "data": {
      "text/plain": [
       "SpearmanrResult(correlation=1.0, pvalue=0.0)"
      ]
     },
     "execution_count": 23,
     "metadata": {},
     "output_type": "execute_result"
    }
   ],
   "source": [
    "sp.stats.spearmanr(r,r) #  Spearman rank-order correlation coefficient and the p-value to test for non-correlation"
   ]
  },
  {
   "cell_type": "code",
   "execution_count": 24,
   "metadata": {},
   "outputs": [
    {
     "data": {
      "text/plain": [
       "(0.998630940914154, 0.6419316530227661)"
      ]
     },
     "execution_count": 24,
     "metadata": {},
     "output_type": "execute_result"
    }
   ],
   "source": [
    "# The Shapiro-Wilk test tests if a sample has been drawn from a normal distribution. \n",
    "# The null hypothesis is that the sample is drawn from a normal distribution \n",
    "# and the alternative hypothesis that it is not.\n",
    "sp.stats.shapiro(r) # Perform the Shapiro-Wilk test for normality."
   ]
  },
  {
   "cell_type": "markdown",
   "metadata": {},
   "source": [
    "A one-sample Kolmogorov-Smirnov test helps to determine whether a sample is drawn from a particular theoretical\n",
    "distribution. It has the null hypothesis that the sample is drawn from the distribution and the alternative hypothesis that it is not.\n",
    "\n",
    "A two-sample Kolmogorov-Smirnov test helps to determine whether two samples are drawn from the same\n",
    "distribution. It has the null hypothesis that they are drawn from the same distribution and the alternative hypothesis that they are not."
   ]
  },
  {
   "cell_type": "code",
   "execution_count": 25,
   "metadata": {},
   "outputs": [
    {
     "data": {
      "text/plain": [
       "KstestResult(statistic=0.05939709507972968, pvalue=0.23145273068092162)"
      ]
     },
     "execution_count": 25,
     "metadata": {},
     "output_type": "execute_result"
    }
   ],
   "source": [
    "sp.stats.kstest(sp.stats.t.rvs(3,size=300),'norm') # the Kolmogorov-Smirnov test for goodness of fit"
   ]
  },
  {
   "cell_type": "code",
   "execution_count": 26,
   "metadata": {},
   "outputs": [
    {
     "data": {
      "text/plain": [
       "Ks_2sampResult(statistic=0.2516666666666667, pvalue=3.4817541220592813e-07)"
      ]
     },
     "execution_count": 26,
     "metadata": {},
     "output_type": "execute_result"
    }
   ],
   "source": [
    "rvs1 = sp.stats.norm.rvs(size=200, loc=0., scale=1)\n",
    "rvs2 = sp.stats.norm.rvs(size=300, loc=0.5, scale=1.5)\n",
    "sp.stats.ks_2samp(rvs1, rvs2) # the Kolmogorov-Smirnov statistic on 2 samples"
   ]
  },
  {
   "cell_type": "code",
   "execution_count": 27,
   "metadata": {},
   "outputs": [
    {
     "data": {
      "text/plain": [
       "Ttest_1sampResult(statistic=array([-0.65046361, -0.30408858]), pvalue=array([0.51843125, 0.76234805]))"
      ]
     },
     "execution_count": 27,
     "metadata": {},
     "output_type": "execute_result"
    }
   ],
   "source": [
    "rvs = sp.stats.norm.rvs(loc=5, scale=10, size=(50,2))\n",
    "sp.stats.ttest_1samp(rvs,5.0) # Calculates the T-test for the mean of ONE group of scores."
   ]
  },
  {
   "cell_type": "code",
   "execution_count": 28,
   "metadata": {},
   "outputs": [
    {
     "data": {
      "text/plain": [
       "Ttest_indResult(statistic=0.23204795632151948, pvalue=0.8165483481200034)"
      ]
     },
     "execution_count": 28,
     "metadata": {},
     "output_type": "execute_result"
    }
   ],
   "source": [
    "rvs1 = sp.stats.norm.rvs(loc=5,scale=10,size=500)\n",
    "rvs2 = sp.stats.norm.rvs(loc=5,scale=10,size=500)\n",
    "sp.stats.ttest_ind(rvs1,rvs2, equal_var = False) # Calculates the T-test for the means of TWO INDEPENDENT samples of scores."
   ]
  },
  {
   "cell_type": "code",
   "execution_count": 29,
   "metadata": {},
   "outputs": [
    {
     "data": {
      "text/plain": [
       "Ttest_relResult(statistic=0.8235606399438526, pvalue=0.4105826750951742)"
      ]
     },
     "execution_count": 29,
     "metadata": {},
     "output_type": "execute_result"
    }
   ],
   "source": [
    "rvs1 = sp.stats.norm.rvs(loc=5,scale=10,size=500)\n",
    "rvs2 = (sp.stats.norm.rvs(loc=5,scale=10,size=500) + sp.stats.norm.rvs(scale=0.2,size=500))\n",
    "sp.stats.ttest_rel(rvs1,rvs2) # Calculates the T-test on TWO RELATED samples of scores, a and b."
   ]
  },
  {
   "cell_type": "markdown",
   "metadata": {},
   "source": [
    "### Mann-Whitney-Wilcoxon (MWW) RankSum test\n",
    "\n",
    "The MWW RankSum test is a useful test to determine if two distributions are significantly different or not. Unlike the t-test, the RankSum test does not assume that the data are normally distributed, potentially providing a more accurate assessment of the data sets.\n",
    "\n",
    "A RankSum test will provide a p value indicating whether or not the two distributions are the same.\n",
    "If p-value <= 0.05, we are highly confident that the distributions significantly differ. With P=p-value > 0.05, we must say that the distributions do not significantly differ. "
   ]
  },
  {
   "cell_type": "code",
   "execution_count": 30,
   "metadata": {},
   "outputs": [],
   "source": [
    "rvs1 = sp.stats.norm.rvs(loc=5, scale=10, size=500)\n",
    "rvs2 = sp.stats.norm.rvs(loc=5, scale=10, size=500)\n",
    "rvs3 = sp.stats.norm.rvs(loc=8, scale=10, size=500)"
   ]
  },
  {
   "cell_type": "code",
   "execution_count": 31,
   "metadata": {},
   "outputs": [
    {
     "data": {
      "text/plain": [
       "Ttest_indResult(statistic=2.213785702833049, pvalue=0.02706898761125267)"
      ]
     },
     "execution_count": 31,
     "metadata": {},
     "output_type": "execute_result"
    }
   ],
   "source": [
    "sp.stats.ttest_ind(rvs1, rvs2)"
   ]
  },
  {
   "cell_type": "code",
   "execution_count": 32,
   "metadata": {},
   "outputs": [
    {
     "data": {
      "text/plain": [
       "Ks_2sampResult(statistic=0.08199999999999996, pvalue=0.06567117973706302)"
      ]
     },
     "execution_count": 32,
     "metadata": {},
     "output_type": "execute_result"
    }
   ],
   "source": [
    "sp.stats.ks_2samp(rvs1, rvs2)"
   ]
  },
  {
   "cell_type": "code",
   "execution_count": 33,
   "metadata": {},
   "outputs": [
    {
     "data": {
      "text/plain": [
       "Ttest_indResult(statistic=-2.154119626177806, pvalue=0.03146962586836468)"
      ]
     },
     "execution_count": 33,
     "metadata": {},
     "output_type": "execute_result"
    }
   ],
   "source": [
    "sp.stats.ttest_ind(rvs1, rvs3)"
   ]
  },
  {
   "cell_type": "code",
   "execution_count": 34,
   "metadata": {},
   "outputs": [
    {
     "data": {
      "text/plain": [
       "Ks_2sampResult(statistic=0.09999999999999998, pvalue=0.01243214172852143)"
      ]
     },
     "execution_count": 34,
     "metadata": {},
     "output_type": "execute_result"
    }
   ],
   "source": [
    "sp.stats.ks_2samp(rvs1, rvs3)"
   ]
  },
  {
   "cell_type": "code",
   "execution_count": 35,
   "metadata": {},
   "outputs": [
    {
     "data": {
      "text/plain": [
       "RanksumsResult(statistic=-2.1538829578702265, pvalue=0.031249351765496258)"
      ]
     },
     "execution_count": 35,
     "metadata": {},
     "output_type": "execute_result"
    }
   ],
   "source": [
    "sp.stats.ranksums(rvs1, rvs3)  "
   ]
  },
  {
   "cell_type": "markdown",
   "metadata": {},
   "source": [
    "### One-way analysis of variance (ANOVA)\n",
    "\n",
    "Use ANOVA, if you need to compare more than two data sets at a time. For example, we have the results from 3 experiments with overlapping 95% confidence intervals, and we want to confirm that the results for all 3 experiments are not significantly different.If p-value > 0.05, we claim with high confidence that the means of the results of all three experiments are not significantly different."
   ]
  },
  {
   "cell_type": "code",
   "execution_count": 36,
   "metadata": {},
   "outputs": [
    {
     "data": {
      "text/plain": [
       "F_onewayResult(statistic=9.517930981091922, pvalue=7.806848471312665e-05)"
      ]
     },
     "execution_count": 36,
     "metadata": {},
     "output_type": "execute_result"
    }
   ],
   "source": [
    "sp.stats.f_oneway(rvs1, rvs2, rvs3)  "
   ]
  },
  {
   "cell_type": "markdown",
   "metadata": {
    "collapsed": true
   },
   "source": [
    "### THE END"
   ]
  }
 ],
 "metadata": {
  "kernelspec": {
   "display_name": "Python 3",
   "language": "python",
   "name": "python3"
  },
  "language_info": {
   "codemirror_mode": {
    "name": "ipython",
    "version": 3
   },
   "file_extension": ".py",
   "mimetype": "text/x-python",
   "name": "python",
   "nbconvert_exporter": "python",
   "pygments_lexer": "ipython3",
   "version": "3.7.2"
  }
 },
 "nbformat": 4,
 "nbformat_minor": 1
}
