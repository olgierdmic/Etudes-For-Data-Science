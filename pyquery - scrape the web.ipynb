{
 "cells": [
  {
   "cell_type": "markdown",
   "metadata": {},
   "source": [
    "Pyquery (https://github.com/gawel/pyquery/) allows you to make jquery (https://jquery.com/) queries on xml documents."
   ]
  },
  {
   "cell_type": "markdown",
   "metadata": {},
   "source": [
    "### Synopsis"
   ]
  },
  {
   "cell_type": "raw",
   "metadata": {},
   "source": [
    "#import\n",
    "from pyquery import PyQuery as pq\n",
    "\n",
    "#d is like $ in jquery\n",
    "d = pq(url=your_url)\n",
    "d = pq(filename=path_to_html_file)\n",
    "d = pq(html=html_as_str)\n",
    "\n",
    "#grab the element with #id ..., or with attr= ..., or the elements beneath\n",
    "d(\"#css_id\"), d(\"div[my_attr*=attr_value]), f.find('div')\n",
    "\n",
    "#display the contents, text, html\n",
    "d.contents(), d.text(), d.html()\n",
    "\n",
    "#grab the element's value or attr\n",
    "d.val(), d.attr('my_attr')\n",
    "\n",
    "#grab children, siblings, parents, or the closest parent\n",
    "d.children('.child'), d.siblings('p'), d.parents(), d.closest('div')\n",
    "\n",
    "#loop over PyQuery elements returning PyQuery objects\n",
    "d.items()\n",
    "\n",
    "#transform each node with lambda func returning PyQuery objects\n",
    "d.each(lambda i, e: ...), d.map(lambda i, e: ...)\n"
   ]
  },
  {
   "cell_type": "code",
   "execution_count": 1,
   "metadata": {},
   "outputs": [],
   "source": [
    "from pyquery import PyQuery as pq"
   ]
  },
  {
   "cell_type": "markdown",
   "metadata": {},
   "source": [
    "### attr()"
   ]
  },
  {
   "cell_type": "code",
   "execution_count": 2,
   "metadata": {},
   "outputs": [
    {
     "data": {
      "text/plain": [
       "('myattr_val', [<div>], 'myattr_val', 'my txt')"
      ]
     },
     "execution_count": 2,
     "metadata": {},
     "output_type": "execute_result"
    }
   ],
   "source": [
    "d = pq('<div my_attr=\"myattr_val\">my txt</div>')\n",
    "# grab element's my_attr, find elements whose my_attr contains *=..., starts with ^=..., ends with $=..., respectively \n",
    "d.attr('my_attr'), d('div[my_attr*=\"attr\"]'), d('[my_attr^=\"my\"]').attr('my_attr'), d('[my_attr$=\"val\"]').text()"
   ]
  },
  {
   "cell_type": "markdown",
   "metadata": {},
   "source": [
    "### children"
   ]
  },
  {
   "cell_type": "code",
   "execution_count": 3,
   "metadata": {},
   "outputs": [
    {
     "data": {
      "text/plain": [
       "([<p.hello>, <p>], [<p.hello>])"
      ]
     },
     "execution_count": 3,
     "metadata": {},
     "output_type": "execute_result"
    }
   ],
   "source": [
    "d = pq('<span><p class=\"hello\">Hi!</p> and <p>Bye!</p></span>')\n",
    "# select immediate children\n",
    "d.children(), d.children('.hello')"
   ]
  },
  {
   "cell_type": "markdown",
   "metadata": {},
   "source": [
    "### closest()"
   ]
  },
  {
   "cell_type": "code",
   "execution_count": 4,
   "metadata": {},
   "outputs": [
    {
     "data": {
      "text/plain": [
       "([<div.hello>], [<strong.hello>])"
      ]
     },
     "execution_count": 4,
     "metadata": {},
     "output_type": "execute_result"
    }
   ],
   "source": [
    "d = pq('<div class=\"hello\"><p>This is a <strong class=\"hello\">test</strong></p></div>')\n",
    "# grab the closest parent element\n",
    "d('strong').closest('div'), d('strong').closest('.hello')"
   ]
  },
  {
   "cell_type": "markdown",
   "metadata": {},
   "source": [
    "### :contains()"
   ]
  },
  {
   "cell_type": "code",
   "execution_count": 5,
   "metadata": {},
   "outputs": [
    {
     "data": {
      "text/plain": [
       "'World Health Organization'"
      ]
     },
     "execution_count": 5,
     "metadata": {},
     "output_type": "execute_result"
    }
   ],
   "source": [
    "d = pq(\"<p><abbr title='World Health Organization'>WHO</abbr> was founded ...</p>\")\n",
    "# grab element that contains ...\n",
    "d(\"abbr:contains('WHO')\").attr('title')"
   ]
  },
  {
   "cell_type": "markdown",
   "metadata": {},
   "source": [
    "### contents()"
   ]
  },
  {
   "cell_type": "code",
   "execution_count": 6,
   "metadata": {},
   "outputs": [
    {
     "data": {
      "text/plain": [
       "['hello ', <Element b at 0x7fbb2168a248>]"
      ]
     },
     "execution_count": 6,
     "metadata": {},
     "output_type": "execute_result"
    }
   ],
   "source": [
    "d = pq('<h1>hello <b>bold</b></h1>')\n",
    "# show the contents\n",
    "d.contents()"
   ]
  },
  {
   "cell_type": "code",
   "execution_count": 7,
   "metadata": {},
   "outputs": [
    {
     "data": {
      "text/plain": [
       "['<p>hello </p>', '<b>bold</b>']"
      ]
     },
     "execution_count": 7,
     "metadata": {},
     "output_type": "execute_result"
    }
   ],
   "source": [
    "# show a little more\n",
    "d.contents().map(lambda j, e: pq(e).outer_html())"
   ]
  },
  {
   "cell_type": "markdown",
   "metadata": {},
   "source": [
    "### d()"
   ]
  },
  {
   "cell_type": "code",
   "execution_count": 8,
   "metadata": {},
   "outputs": [
    {
     "data": {
      "text/plain": [
       "[<div#abc>]"
      ]
     },
     "execution_count": 8,
     "metadata": {},
     "output_type": "execute_result"
    }
   ],
   "source": [
    "d = pq(\"\"\"\n",
    "        <html>\n",
    "        <body>\n",
    "        <div id='abc'>ABC</div>\n",
    "        </body>\n",
    "        </html>\n",
    "        \"\"\")\n",
    "\n",
    "# grap element with id = '#abc'\n",
    "d('#abc')"
   ]
  },
  {
   "cell_type": "markdown",
   "metadata": {},
   "source": [
    "### each ()"
   ]
  },
  {
   "cell_type": "code",
   "execution_count": 9,
   "metadata": {},
   "outputs": [
    {
     "data": {
      "text/plain": [
       "[<p.hello>, <p>]"
      ]
     },
     "execution_count": 9,
     "metadata": {},
     "output_type": "execute_result"
    }
   ],
   "source": [
    "d = pq('<p class=\"hello\">Hi there</p><p>Bye</p><br />')\n",
    "# loop over each element and apply lambda func\n",
    "d('p').each(lambda i, e: pq(e).attr('nc','mc_'+str(i)) )"
   ]
  },
  {
   "cell_type": "markdown",
   "metadata": {},
   "source": [
    "### end()"
   ]
  },
  {
   "cell_type": "code",
   "execution_count": 10,
   "metadata": {},
   "outputs": [
    {
     "data": {
      "text/plain": [
       "[<p>, <p>]"
      ]
     },
     "execution_count": 10,
     "metadata": {},
     "output_type": "execute_result"
    }
   ],
   "source": [
    "d = pq('<p><span><em>Whoah!</em></span></p><p><em> there</em></p>')\n",
    "# break out of a traversal level and return to the parent level\n",
    "d('p').eq(1).find('em').end().end()"
   ]
  },
  {
   "cell_type": "markdown",
   "metadata": {},
   "source": [
    "### eq()"
   ]
  },
  {
   "cell_type": "code",
   "execution_count": 11,
   "metadata": {},
   "outputs": [
    {
     "data": {
      "text/plain": [
       "([<p.hello>], 'Bye')"
      ]
     },
     "execution_count": 11,
     "metadata": {},
     "output_type": "execute_result"
    }
   ],
   "source": [
    "d = pq('<p class=\"hello\">Hi</p><p>Bye</p><div></div>')\n",
    "# grab the n-th element, ie eq(n) \n",
    "d('p').eq(0), d('p').eq(-1).text()"
   ]
  },
  {
   "cell_type": "markdown",
   "metadata": {},
   "source": [
    "### filter()"
   ]
  },
  {
   "cell_type": "code",
   "execution_count": 12,
   "metadata": {},
   "outputs": [
    {
     "data": {
      "text/plain": [
       "[<p.hello>]"
      ]
     },
     "execution_count": 12,
     "metadata": {},
     "output_type": "execute_result"
    }
   ],
   "source": [
    "d = pq('<p class=\"hello\">Hi</p><p>Bye</p>')\n",
    "# filter by class hello\n",
    "d('p').filter('.hello')"
   ]
  },
  {
   "cell_type": "code",
   "execution_count": 13,
   "metadata": {},
   "outputs": [
    {
     "data": {
      "text/plain": [
       "'Hi'"
      ]
     },
     "execution_count": 13,
     "metadata": {},
     "output_type": "execute_result"
    }
   ],
   "source": [
    "# filter by item i=0\n",
    "d('p').filter(lambda i: i == 0).text()"
   ]
  },
  {
   "cell_type": "code",
   "execution_count": 14,
   "metadata": {},
   "outputs": [
    {
     "data": {
      "text/plain": [
       "[<p.hello>]"
      ]
     },
     "execution_count": 14,
     "metadata": {},
     "output_type": "execute_result"
    }
   ],
   "source": [
    "# filter by text = 'Hi'\n",
    "d('p').filter(lambda i, el: pq(el).text() == 'Hi')"
   ]
  },
  {
   "cell_type": "markdown",
   "metadata": {},
   "source": [
    "### find()"
   ]
  },
  {
   "cell_type": "code",
   "execution_count": 15,
   "metadata": {},
   "outputs": [
    {
     "data": {
      "text/plain": [
       "[<em>, <em>]"
      ]
     },
     "execution_count": 15,
     "metadata": {},
     "output_type": "execute_result"
    }
   ],
   "source": [
    "d = pq('<p><span><em>hunky</em></span></p><p><em>dory!</em></p>')\n",
    "# find the elements beneath\n",
    "d('p').find('em')"
   ]
  },
  {
   "cell_type": "code",
   "execution_count": 16,
   "metadata": {},
   "outputs": [
    {
     "data": {
      "text/plain": [
       "'dory!'"
      ]
     },
     "execution_count": 16,
     "metadata": {},
     "output_type": "execute_result"
    }
   ],
   "source": [
    "# grab the last <p> and find <em\n",
    "d('p').eq(-1).find('em').text()"
   ]
  },
  {
   "cell_type": "markdown",
   "metadata": {},
   "source": [
    "### has_class()"
   ]
  },
  {
   "cell_type": "code",
   "execution_count": 17,
   "metadata": {},
   "outputs": [
    {
     "data": {
      "text/plain": [
       "True"
      ]
     },
     "execution_count": 17,
     "metadata": {},
     "output_type": "execute_result"
    }
   ],
   "source": [
    "d = pq('<div class=\"class1 class2 class3\"></div>')\n",
    "# checks the element class\n",
    "d.has_class('class2')"
   ]
  },
  {
   "cell_type": "markdown",
   "metadata": {},
   "source": [
    "### html()"
   ]
  },
  {
   "cell_type": "code",
   "execution_count": 18,
   "metadata": {},
   "outputs": [
    {
     "data": {
      "text/plain": [
       "('<span>toto</span>', 'toto', [<span>], '<span>toto</span>')"
      ]
     },
     "execution_count": 18,
     "metadata": {},
     "output_type": "execute_result"
    }
   ],
   "source": [
    "d = pq('<div><span>toto</span></div>')\n",
    "# show html, text, etc\n",
    "d.html(), d.text(), d.contents(), d.contents().outer_html()"
   ]
  },
  {
   "cell_type": "markdown",
   "metadata": {},
   "source": [
    "### is_()"
   ]
  },
  {
   "cell_type": "code",
   "execution_count": 19,
   "metadata": {},
   "outputs": [
    {
     "data": {
      "text/plain": [
       "(True, True, 'attr1_val')"
      ]
     },
     "execution_count": 19,
     "metadata": {},
     "output_type": "execute_result"
    }
   ],
   "source": [
    "d = pq('<p class=\"cls1 cls2\">Hi</p><p id=\"bye\" >Bye</p><div attr1=\"attr1_val\">txt1</div>')\n",
    "# check if the selector matches the class=cls2, an id=bye, has tr1 int attr1\n",
    "d('p').eq(0).is_('.cls2'), d('p').eq(1).is_('#bye'), d('div[attr1*=\"tr1\"]').attr('attr1')"
   ]
  },
  {
   "cell_type": "markdown",
   "metadata": {},
   "source": [
    "### items()"
   ]
  },
  {
   "cell_type": "code",
   "execution_count": 20,
   "metadata": {},
   "outputs": [
    {
     "data": {
      "text/plain": [
       "['foo', 'bar']"
      ]
     },
     "execution_count": 20,
     "metadata": {},
     "output_type": "execute_result"
    }
   ],
   "source": [
    "d = pq('<div><span>foo</span><span>bar</span></div>')\n",
    "# iterate over elements returning PyQuery objects\n",
    "[i.text() for i in d('span').items()]"
   ]
  },
  {
   "cell_type": "markdown",
   "metadata": {},
   "source": [
    "### map()"
   ]
  },
  {
   "cell_type": "code",
   "execution_count": 21,
   "metadata": {},
   "outputs": [
    {
     "data": {
      "text/plain": [
       "[('<p class=\"hello\">Hi there</p>', 'Hi there'), ('<p>Bye</p>', 'Bye')]"
      ]
     },
     "execution_count": 21,
     "metadata": {},
     "output_type": "execute_result"
    }
   ],
   "source": [
    "d = pq('<p class=\"hello\">Hi there</p><p>Bye</p><br />')\n",
    "# iterate over elements applying lambda func\n",
    "d('p').map(lambda i, e: (pq(e).outer_html(), pq(e).text()) )"
   ]
  },
  {
   "cell_type": "code",
   "execution_count": 22,
   "metadata": {},
   "outputs": [
    {
     "data": {
      "text/plain": [
       "([8, 3], ['Hi', 'there', 'Bye'])"
      ]
     },
     "execution_count": 22,
     "metadata": {},
     "output_type": "execute_result"
    }
   ],
   "source": [
    "d('p').map(lambda i, e: len(pq(this).text())), d('p').map(lambda i, e: pq(e).text().split())"
   ]
  },
  {
   "cell_type": "markdown",
   "metadata": {},
   "source": [
    "### next_all()"
   ]
  },
  {
   "cell_type": "code",
   "execution_count": 23,
   "metadata": {},
   "outputs": [
    {
     "data": {
      "text/plain": [
       "[<img>, <code>, <span>]"
      ]
     },
     "execution_count": 23,
     "metadata": {},
     "output_type": "execute_result"
    }
   ],
   "source": [
    "html_doc = '''\n",
    "    <span>\n",
    "    <p class=\"hello\">Hi</p>\n",
    "    <p>Bye</p>\n",
    "    <img scr=\"\"/>\n",
    "    <code>abc=2</code>\n",
    "    <span>the end</span>\n",
    "    </span>\n",
    "    '''\n",
    "d = pq(html_doc)\n",
    "# grab all the next elements\n",
    "d('p:last').next_all()"
   ]
  },
  {
   "cell_type": "markdown",
   "metadata": {},
   "source": [
    "### outer_html()"
   ]
  },
  {
   "cell_type": "code",
   "execution_count": 24,
   "metadata": {},
   "outputs": [
    {
     "data": {
      "text/plain": [
       "('<div><span class=\"red\">toto</span> rocks</div>',\n",
       " '<span class=\"red\">toto</span>')"
      ]
     },
     "execution_count": 24,
     "metadata": {},
     "output_type": "execute_result"
    }
   ],
   "source": [
    "d = pq('<div><span class=\"red\">toto</span> rocks</div>')\n",
    "# show html representation\n",
    "d('div').outer_html(), d('span').outer_html()"
   ]
  },
  {
   "cell_type": "markdown",
   "metadata": {},
   "source": [
    "### parents()"
   ]
  },
  {
   "cell_type": "code",
   "execution_count": 25,
   "metadata": {},
   "outputs": [
    {
     "data": {
      "text/plain": [
       "([<h1>, <span>], [<h1>], [<h1>])"
      ]
     },
     "execution_count": 25,
     "metadata": {},
     "output_type": "execute_result"
    }
   ],
   "source": [
    "d = pq('<h1><span><p class=\"hello\">Hi</p><div>Bye</div></span></h1>')\n",
    "# grab the h1 parents\n",
    "d('.hello').parents(), d('div').parents('h1'), d('.hello').closest('h1')"
   ]
  },
  {
   "cell_type": "markdown",
   "metadata": {},
   "source": [
    "### prev_all"
   ]
  },
  {
   "cell_type": "code",
   "execution_count": 26,
   "metadata": {},
   "outputs": [
    {
     "data": {
      "text/plain": [
       "[<p#firstid.first>, <p.hello>]"
      ]
     },
     "execution_count": 26,
     "metadata": {},
     "output_type": "execute_result"
    }
   ],
   "source": [
    "h = '''<span>\n",
    "        <p id=\"firstid\" class=\"first\">Im first</p>\n",
    "        <p class=\"hello\">Hi</p>\n",
    "        <p>Bye</p>\n",
    "        <img scr=\"\"/>\n",
    "        </span>'''\n",
    "d = pq(h)\n",
    "# grab all the previous elements\n",
    "d('p:last').prev_all()"
   ]
  },
  {
   "cell_type": "markdown",
   "metadata": {},
   "source": [
    "### siblings()"
   ]
  },
  {
   "cell_type": "code",
   "execution_count": 27,
   "metadata": {},
   "outputs": [
    {
     "data": {
      "text/plain": [
       "([<p>, <img>], [<img>])"
      ]
     },
     "execution_count": 27,
     "metadata": {},
     "output_type": "execute_result"
    }
   ],
   "source": [
    "d = pq('<span><p class=\"hello\">Hi</p><p>Bye</p><img scr=\"\"/></span>')\n",
    "# grab all the siblings\n",
    "d('.hello').siblings(), d('.hello').siblings('img')"
   ]
  },
  {
   "cell_type": "markdown",
   "metadata": {},
   "source": [
    "### text()"
   ]
  },
  {
   "cell_type": "code",
   "execution_count": 28,
   "metadata": {},
   "outputs": [
    {
     "data": {
      "text/plain": [
       "'tototata'"
      ]
     },
     "execution_count": 28,
     "metadata": {},
     "output_type": "execute_result"
    }
   ],
   "source": [
    "doc = pq('<div><span>toto</span><span>tata</span></div>')\n",
    "# show the text representation\n",
    "doc.text()"
   ]
  },
  {
   "cell_type": "markdown",
   "metadata": {},
   "source": [
    "### val()"
   ]
  },
  {
   "cell_type": "code",
   "execution_count": 29,
   "metadata": {},
   "outputs": [
    {
     "data": {
      "text/plain": [
       "('old value', [<input>], '<input value=\"new value\">')"
      ]
     },
     "execution_count": 29,
     "metadata": {},
     "output_type": "execute_result"
    }
   ],
   "source": [
    "d = pq('<input value=\"old value\"/>')\n",
    "# get or set the value of <input>\n",
    "d.val(), d.val('new value'), d.outer_html()"
   ]
  },
  {
   "cell_type": "markdown",
   "metadata": {},
   "source": [
    "### THE END"
   ]
  }
 ],
 "metadata": {
  "kernelspec": {
   "display_name": "Python 3",
   "language": "python",
   "name": "python3"
  },
  "language_info": {
   "codemirror_mode": {
    "name": "ipython",
    "version": 3
   },
   "file_extension": ".py",
   "mimetype": "text/x-python",
   "name": "python",
   "nbconvert_exporter": "python",
   "pygments_lexer": "ipython3",
   "version": "3.7.2"
  }
 },
 "nbformat": 4,
 "nbformat_minor": 1
}
