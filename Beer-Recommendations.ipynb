{
 "cells": [
  {
   "cell_type": "markdown",
   "id": "3f1c1d9a-024c-4ce1-a45b-c9c9d493b2c9",
   "metadata": {},
   "source": [
    "## Beer Recommendations"
   ]
  },
  {
   "cell_type": "markdown",
   "id": "42b57ae1-c0d1-4315-a0c5-bfa4aa0e497a",
   "metadata": {},
   "source": [
    "### Tasks:\n",
    "\n",
    "\"Could you provide an answer for the following questions\":\n",
    "\n",
    "- [\"Which brewery produces the strongest beers by abv ?\"](#Strongest-Beers)\n",
    "\n",
    "- [\"If you had to pick 3 beers to recommend to someone, how would you approach the problem?\"](#Beer-Recommendations)\n",
    "\n",
    "- [\"What are the factors that impacts the quality of beer the most?\"](#Beer-Qlty)\n",
    "\n",
    "- [\"I enjoy a beer which aroma and appearance matches the beer style. What beer should I buy?\"](#Beer-Style-Matches)"
   ]
  },
  {
   "cell_type": "code",
   "execution_count": 1,
   "id": "a52550ab-74df-4cc1-8e4f-a6a7310254b9",
   "metadata": {},
   "outputs": [
    {
     "name": "stderr",
     "output_type": "stream",
     "text": [
      "Intel(R) Extension for Scikit-learn* enabled (https://github.com/intel/scikit-learn-intelex)\n"
     ]
    }
   ],
   "source": [
    "from scipy.spatial import distance       # for cosine distances\n",
    "from statsmodels.formula.api import ols  # for patsy formula\n",
    "from sklearn.preprocessing import scale  # for scaling features\n",
    "from sklearn.inspection import permutation_importance  # for assessing feature importance\n",
    "from sklearn.ensemble import RandomForestRegressor  # for it doesn't care about feature scaling\n",
    "\n",
    "from sklearnex import patch_sklearn      # speeds up sklearn a bit\n",
    "patch_sklearn()\n",
    "\n",
    "import warnings\n",
    "from pandas.core.common import SettingWithCopyWarning\n",
    "warnings.simplefilter(action=\"ignore\", category=SettingWithCopyWarning)"
   ]
  },
  {
   "cell_type": "code",
   "execution_count": 2,
   "id": "f31b8e2e-446a-4751-8f1d-e4a452dbc07f",
   "metadata": {},
   "outputs": [
    {
     "name": "stdout",
     "output_type": "stream",
     "text": [
      "<class 'pandas.core.frame.DataFrame'>\n",
      "RangeIndex: 1586614 entries, 0 to 1586613\n",
      "Data columns (total 13 columns):\n",
      " #   Column              Non-Null Count    Dtype  \n",
      "---  ------              --------------    -----  \n",
      " 0   brewery_id          1586614 non-null  int64  \n",
      " 1   brewery_name        1586599 non-null  object \n",
      " 2   review_time         1586614 non-null  int64  \n",
      " 3   review_overall      1586614 non-null  float64\n",
      " 4   review_aroma        1586614 non-null  float64\n",
      " 5   review_appearance   1586614 non-null  float64\n",
      " 6   review_profilename  1586266 non-null  object \n",
      " 7   beer_style          1586614 non-null  object \n",
      " 8   review_palate       1586614 non-null  float64\n",
      " 9   review_taste        1586614 non-null  float64\n",
      " 10  beer_name           1586614 non-null  object \n",
      " 11  beer_abv            1518829 non-null  float64\n",
      " 12  beer_beerid         1586614 non-null  int64  \n",
      "dtypes: float64(6), int64(3), object(4)\n",
      "memory usage: 157.4+ MB\n"
     ]
    }
   ],
   "source": [
    "beers = pd.read_csv('beer_reviews.csv')\n",
    "beers.info()"
   ]
  },
  {
   "cell_type": "code",
   "execution_count": 3,
   "id": "c352dfc5-399a-47d3-93ae-39b1b57e5921",
   "metadata": {},
   "outputs": [
    {
     "data": {
      "text/html": [
       "<div>\n",
       "<style scoped>\n",
       "    .dataframe tbody tr th:only-of-type {\n",
       "        vertical-align: middle;\n",
       "    }\n",
       "\n",
       "    .dataframe tbody tr th {\n",
       "        vertical-align: top;\n",
       "    }\n",
       "\n",
       "    .dataframe thead th {\n",
       "        text-align: right;\n",
       "    }\n",
       "</style>\n",
       "<table border=\"1\" class=\"dataframe\">\n",
       "  <thead>\n",
       "    <tr style=\"text-align: right;\">\n",
       "      <th></th>\n",
       "      <th>brewery_id</th>\n",
       "      <th>brewery_name</th>\n",
       "      <th>review_time</th>\n",
       "      <th>review_overall</th>\n",
       "      <th>review_aroma</th>\n",
       "      <th>review_appearance</th>\n",
       "      <th>review_profilename</th>\n",
       "      <th>beer_style</th>\n",
       "      <th>review_palate</th>\n",
       "      <th>review_taste</th>\n",
       "      <th>beer_name</th>\n",
       "      <th>beer_abv</th>\n",
       "      <th>beer_beerid</th>\n",
       "    </tr>\n",
       "  </thead>\n",
       "  <tbody>\n",
       "    <tr>\n",
       "      <th>505869</th>\n",
       "      <td>132</td>\n",
       "      <td>Rogue Ales</td>\n",
       "      <td>1240836832</td>\n",
       "      <td>3.5</td>\n",
       "      <td>3.5</td>\n",
       "      <td>3.5</td>\n",
       "      <td>Ragingbull</td>\n",
       "      <td>Oatmeal Stout</td>\n",
       "      <td>3.0</td>\n",
       "      <td>3.5</td>\n",
       "      <td>Shakespeare Oatmeal Stout</td>\n",
       "      <td>6.1</td>\n",
       "      <td>56973</td>\n",
       "    </tr>\n",
       "    <tr>\n",
       "      <th>699066</th>\n",
       "      <td>130</td>\n",
       "      <td>Boulder Beer / Wilderness Pub</td>\n",
       "      <td>1220150169</td>\n",
       "      <td>4.0</td>\n",
       "      <td>4.0</td>\n",
       "      <td>4.0</td>\n",
       "      <td>argock</td>\n",
       "      <td>English India Pale Ale (IPA)</td>\n",
       "      <td>4.5</td>\n",
       "      <td>4.0</td>\n",
       "      <td>Cold Hop British-Style Ale</td>\n",
       "      <td>6.8</td>\n",
       "      <td>36468</td>\n",
       "    </tr>\n",
       "    <tr>\n",
       "      <th>1138719</th>\n",
       "      <td>863</td>\n",
       "      <td>Russian River Brewing Company</td>\n",
       "      <td>1236241149</td>\n",
       "      <td>4.0</td>\n",
       "      <td>4.0</td>\n",
       "      <td>4.0</td>\n",
       "      <td>olmatty</td>\n",
       "      <td>American IPA</td>\n",
       "      <td>4.0</td>\n",
       "      <td>4.5</td>\n",
       "      <td>Blind Pig IPA</td>\n",
       "      <td>6.1</td>\n",
       "      <td>22790</td>\n",
       "    </tr>\n",
       "  </tbody>\n",
       "</table>\n",
       "</div>"
      ],
      "text/plain": [
       "         brewery_id                   brewery_name  review_time  \\\n",
       "505869          132                     Rogue Ales   1240836832   \n",
       "699066          130  Boulder Beer / Wilderness Pub   1220150169   \n",
       "1138719         863  Russian River Brewing Company   1236241149   \n",
       "\n",
       "         review_overall  review_aroma  review_appearance review_profilename  \\\n",
       "505869              3.5           3.5                3.5         Ragingbull   \n",
       "699066              4.0           4.0                4.0             argock   \n",
       "1138719             4.0           4.0                4.0            olmatty   \n",
       "\n",
       "                           beer_style  review_palate  review_taste  \\\n",
       "505869                  Oatmeal Stout            3.0           3.5   \n",
       "699066   English India Pale Ale (IPA)            4.5           4.0   \n",
       "1138719                  American IPA            4.0           4.5   \n",
       "\n",
       "                          beer_name  beer_abv  beer_beerid  \n",
       "505869    Shakespeare Oatmeal Stout       6.1        56973  \n",
       "699066   Cold Hop British-Style Ale       6.8        36468  \n",
       "1138719               Blind Pig IPA       6.1        22790  "
      ]
     },
     "execution_count": 3,
     "metadata": {},
     "output_type": "execute_result"
    }
   ],
   "source": [
    "beers.sample(3)"
   ]
  },
  {
   "cell_type": "code",
   "execution_count": 4,
   "id": "073d81c5-3ff8-4833-910d-60df27ceef8c",
   "metadata": {},
   "outputs": [],
   "source": [
    "Num_of_Recommendations = 3\n",
    "Review_Criteria = ['review_overall', 'review_aroma', 'review_appearance', 'review_palate', 'review_taste']"
   ]
  },
  {
   "cell_type": "markdown",
   "id": "ce1791a3-4290-4d68-8686-0ae6124abc3a",
   "metadata": {},
   "source": [
    "### Strongest Beers"
   ]
  },
  {
   "cell_type": "markdown",
   "id": "92da88ec-e3f9-40a4-8d2f-f6ec515e1353",
   "metadata": {},
   "source": [
    "Approach Plan:\n",
    "- Select the brewery whose beers contain the highest average ABV"
   ]
  },
  {
   "cell_type": "code",
   "execution_count": 5,
   "id": "a0a05950-2426-4ed7-becc-8d8d672c031b",
   "metadata": {},
   "outputs": [
    {
     "data": {
      "text/plain": [
       "'The brewery that produces the strongest beers by abv is Schorschbräu.'"
      ]
     },
     "execution_count": 5,
     "metadata": {},
     "output_type": "execute_result"
    }
   ],
   "source": [
    "f\"The brewery that produces the strongest beers by abv is {beers.groupby('brewery_name')['beer_abv'].mean().sort_values(ascending=False).head(1).index.values[0]}.\"  # max() can be used in place of mean()"
   ]
  },
  {
   "cell_type": "markdown",
   "id": "9cf9e3f1-8b57-4870-ac52-76fe7a86baa5",
   "metadata": {},
   "source": [
    "### Beer Recommendations"
   ]
  },
  {
   "cell_type": "markdown",
   "id": "ece9a353-64b7-4062-aaf1-82716d94469b",
   "metadata": {},
   "source": [
    "Approach Plan:\n",
    "- [Make suggestions based on popular reviews](#Popularity-Recomendation)\n",
    "- [Make suggestions based on the likings of yours](#Content-Recomendation)\n",
    "- [Make suggestions based on the likings of like-minded reviewers](#Collaborative-Recomendation) "
   ]
  },
  {
   "cell_type": "markdown",
   "id": "33ee5eeb-eb6f-499c-829e-93abe9d00e7b",
   "metadata": {},
   "source": [
    "#### Popularity Recomendation"
   ]
  },
  {
   "cell_type": "code",
   "execution_count": 6,
   "id": "896cd8e6-a213-4f27-a7af-797b0b30c874",
   "metadata": {},
   "outputs": [
    {
     "data": {
      "text/plain": [
       "\"The best beers according to the reviews are: Bell's Batch 2000, Bottleworks Imagination Series VIII Laphroaig Barrel Aged Scotch Ale, Chicago Terminal Oatmeal Bourbon Stout\""
      ]
     },
     "execution_count": 6,
     "metadata": {},
     "output_type": "execute_result"
    }
   ],
   "source": [
    "Best_Beers_by_Reviews = beers[['beer_name'] + Review_Criteria ].groupby('beer_name').mean().sort_values(by=Review_Criteria, ascending=False).head(Num_of_Recommendations).index\n",
    "f\"The best beers according to the reviews are: {', '.join(Best_Beers_by_Reviews)}\""
   ]
  },
  {
   "cell_type": "markdown",
   "id": "b73b2343-b5f6-4444-adcf-549eea38454d",
   "metadata": {},
   "source": [
    "##### Notes:\n",
    "- additional criteria can be added, like select only from the popular breweries with above-average reviews, or their review scores are among the top 10%, or simmillar."
   ]
  },
  {
   "cell_type": "markdown",
   "id": "be75e8a5-1d45-461e-8403-47e6d124ee7a",
   "metadata": {},
   "source": [
    "#### Content Recomendation"
   ]
  },
  {
   "cell_type": "code",
   "execution_count": 7,
   "id": "b13f26d6-0ac8-49ff-9fbd-b39c70bd1bac",
   "metadata": {},
   "outputs": [],
   "source": [
    "# enter the list of beer names you like (you can use widgets for that)\n",
    "liked_beer_names = ['Amstel Light',]\n",
    "\n",
    "# get the df-indices for the liked beers\n",
    "liked_beers_idxes = beers.query('beer_name in @liked_beer_names').index \n",
    "liked_beers_idx = liked_beers_idxes[-1]  # for simplicity just limit the processing to 1 "
   ]
  },
  {
   "cell_type": "code",
   "execution_count": 8,
   "id": "f9227244-2b97-460c-80a1-6b60064e4ecb",
   "metadata": {},
   "outputs": [],
   "source": [
    "# scale beers and convert to df \n",
    "beers_to_compare = beers[Review_Criteria + ['beer_abv']] # add ABV to the other review criteria\n",
    "beers_to_compare = pd.DataFrame(scale(beers_to_compare, axis=0), index=beers_to_compare.index, columns=beers_to_compare.columns)  # standardizes features to loc=0, std=1"
   ]
  },
  {
   "cell_type": "code",
   "execution_count": 9,
   "id": "d960fd32-f96a-40ce-87c7-f29b90cea122",
   "metadata": {},
   "outputs": [
    {
     "data": {
      "text/plain": [
       "'The recommened beers based on your current liknings are: Sierra Nevada Wheat Beer, Cable Car Small Batch Amber Ale'"
      ]
     },
     "execution_count": 9,
     "metadata": {},
     "output_type": "execute_result"
    }
   ],
   "source": [
    "# select the top Num_of_Recommendations of simillar beers\n",
    "sorted_recomendation_tuples = sorted( (distance.cosine(beers_to_compare.loc[liked_beers_idx], beers_to_compare.loc[j]),  # computes the distances to the selected beer of liked_beers_idx\n",
    "                                       j)                                       # j is the index to get hold of beer names\n",
    "                                            for j in beers_to_compare.index     # loops over all beers\n",
    "                                                if j not in liked_beers_idxes   # doesn't compare to the selected beers\n",
    "        \n",
    "                                    )[:Num_of_Recommendations]\n",
    "\n",
    "# grab recommended beer indices\n",
    "recommended_beers_idxes = [r[1] for r in sorted_recomendation_tuples]\n",
    "\n",
    "# and translate them to their names\n",
    "recommended_beer_names = beers.query(\"index in @recommended_beers_idxes\").beer_name.unique().tolist()\n",
    "f\"The recommened beers based on your current liknings are: {', '.join(recommended_beer_names)}\""
   ]
  },
  {
   "cell_type": "markdown",
   "id": "675c3476-9814-4585-baa1-e04546e55535",
   "metadata": {},
   "source": [
    "#### Collaborative Recomendation"
   ]
  },
  {
   "cell_type": "markdown",
   "id": "2194ac48-1ea3-4622-a4e4-36a8db680e84",
   "metadata": {},
   "source": [
    "Approach Plan:\n",
    "- Based on the review_profilename (review_id), select like-mided reviewers, then recommend beers that those reviewers value highly.\n",
    "- Since the data size is quite large, limit the reviewers only to those that reviewed between 10 and 100 beers.\n",
    "- Then to speed up the processing, decompse/factorize the matrix M, from the format |reviwer_id(index)\\beer_id(columns|(with overall ratings as values|, into R @ B, where R represents reviews and B beers (alternatively into R @ np.diag(s) @ B) so that computing similarities for reviews and beers is much faster"
   ]
  },
  {
   "cell_type": "code",
   "execution_count": 5,
   "id": "446ae71e-e2ff-48b5-b658-f69495bad397",
   "metadata": {},
   "outputs": [
    {
     "data": {
      "image/png": "[encoded data removed]",
      "text/plain": [
       "<Figure size 432x288 with 1 Axes>"
      ]
     },
     "metadata": {
      "needs_background": "light"
     },
     "output_type": "display_data"
    }
   ],
   "source": [
    "# viz the \"Num of Review\" dist\n",
    "beers.groupby('review_profilename').size().plot.hist(bins=99) \n",
    "plt.xlabel(\"Num of Reviews\"); plt.yscale('log'); plt.grid()"
   ]
  },
  {
   "cell_type": "code",
   "execution_count": 37,
   "id": "d2f88dd7-0424-4658-8a22-b2312621cee6",
   "metadata": {},
   "outputs": [
    {
     "data": {
      "text/html": [
       "<div>\n",
       "<style scoped>\n",
       "    .dataframe tbody tr th:only-of-type {\n",
       "        vertical-align: middle;\n",
       "    }\n",
       "\n",
       "    .dataframe tbody tr th {\n",
       "        vertical-align: top;\n",
       "    }\n",
       "\n",
       "    .dataframe thead th {\n",
       "        text-align: right;\n",
       "    }\n",
       "</style>\n",
       "<table border=\"1\" class=\"dataframe\">\n",
       "  <thead>\n",
       "    <tr style=\"text-align: right;\">\n",
       "      <th></th>\n",
       "      <th>review_id</th>\n",
       "      <th>beer_beerid</th>\n",
       "      <th>review_overall</th>\n",
       "    </tr>\n",
       "  </thead>\n",
       "  <tbody>\n",
       "    <tr>\n",
       "      <th>19658</th>\n",
       "      <td>19</td>\n",
       "      <td>944</td>\n",
       "      <td>3.0</td>\n",
       "    </tr>\n",
       "    <tr>\n",
       "      <th>19659</th>\n",
       "      <td>19</td>\n",
       "      <td>1160</td>\n",
       "      <td>4.5</td>\n",
       "    </tr>\n",
       "    <tr>\n",
       "      <th>19660</th>\n",
       "      <td>19</td>\n",
       "      <td>5488</td>\n",
       "      <td>4.0</td>\n",
       "    </tr>\n",
       "    <tr>\n",
       "      <th>19661</th>\n",
       "      <td>19</td>\n",
       "      <td>20897</td>\n",
       "      <td>3.5</td>\n",
       "    </tr>\n",
       "    <tr>\n",
       "      <th>19662</th>\n",
       "      <td>19</td>\n",
       "      <td>35608</td>\n",
       "      <td>4.5</td>\n",
       "    </tr>\n",
       "    <tr>\n",
       "      <th>...</th>\n",
       "      <td>...</td>\n",
       "      <td>...</td>\n",
       "      <td>...</td>\n",
       "    </tr>\n",
       "    <tr>\n",
       "      <th>1569801</th>\n",
       "      <td>31904</td>\n",
       "      <td>70375</td>\n",
       "      <td>4.5</td>\n",
       "    </tr>\n",
       "    <tr>\n",
       "      <th>1569802</th>\n",
       "      <td>31904</td>\n",
       "      <td>70376</td>\n",
       "      <td>4.0</td>\n",
       "    </tr>\n",
       "    <tr>\n",
       "      <th>1569803</th>\n",
       "      <td>31904</td>\n",
       "      <td>70388</td>\n",
       "      <td>3.5</td>\n",
       "    </tr>\n",
       "    <tr>\n",
       "      <th>1569804</th>\n",
       "      <td>31904</td>\n",
       "      <td>70389</td>\n",
       "      <td>3.0</td>\n",
       "    </tr>\n",
       "    <tr>\n",
       "      <th>1569805</th>\n",
       "      <td>31904</td>\n",
       "      <td>70428</td>\n",
       "      <td>4.5</td>\n",
       "    </tr>\n",
       "  </tbody>\n",
       "</table>\n",
       "<p>35726 rows × 3 columns</p>\n",
       "</div>"
      ],
      "text/plain": [
       "         review_id  beer_beerid  review_overall\n",
       "19658           19          944             3.0\n",
       "19659           19         1160             4.5\n",
       "19660           19         5488             4.0\n",
       "19661           19        20897             3.5\n",
       "19662           19        35608             4.5\n",
       "...            ...          ...             ...\n",
       "1569801      31904        70375             4.5\n",
       "1569802      31904        70376             4.0\n",
       "1569803      31904        70388             3.5\n",
       "1569804      31904        70389             3.0\n",
       "1569805      31904        70428             4.5\n",
       "\n",
       "[35726 rows x 3 columns]"
      ]
     },
     "execution_count": 37,
     "metadata": {},
     "output_type": "execute_result"
    }
   ],
   "source": [
    "# factorize review_profilename\n",
    "beers['review_id'] = pd.factorize(beers.review_profilename, na_sentinel=-1)[0]\n",
    "beers_for_colla_recom = beers[['review_id', 'beer_beerid', 'review_overall']].dropna()\n",
    "beers_for_colla_recom = beers_for_colla_recom.query('review_id >= 0')  # discard those rows that had no review_id\n",
    "beers_for_colla_recom = beers_for_colla_recom.groupby(['review_id','beer_beerid']).mean()\n",
    "\n",
    "# limit the num of rows\n",
    "review_counts = beers_for_colla_recom.groupby(level=0).size()\n",
    "reviews_idxes_with_many_beers = review_counts[(20>review_counts) & (review_counts>10)].index.values\n",
    "\n",
    "beers_reduced = beers_for_colla_recom.reset_index().query('review_id in @reviews_idxes_with_many_beers')\n",
    "beers_reduced"
   ]
  },
  {
   "cell_type": "raw",
   "id": "0c2adf67-0895-4786-9912-d825db307e41",
   "metadata": {},
   "source": [
    "TBC ..."
   ]
  },
  {
   "cell_type": "code",
   "execution_count": null,
   "id": "65953080-837d-4dee-997c-18960455eb6e",
   "metadata": {},
   "outputs": [],
   "source": []
  },
  {
   "cell_type": "markdown",
   "id": "8cba353a-60b3-4562-b75c-8d8da547b5f3",
   "metadata": {},
   "source": [
    "### Beer Qlty"
   ]
  },
  {
   "cell_type": "markdown",
   "id": "49a8928c-3e21-494d-97a8-d5aa1be1f6d5",
   "metadata": {},
   "source": [
    "Approach Plan:\n",
    "- [Build the OLS model the coef of which will signify the impact on the overall Qlty](#OLS-coefs)\n",
    "- [Alternatively, use a permutaion importance method with some model (say, linear or trees ensemble model)](#Permutaion-Importances)\n",
    "- [Better yet, try SHAP](#SHAP)"
   ]
  },
  {
   "cell_type": "markdown",
   "id": "d14e5291-e983-4dd6-b919-f3d75b9a215e",
   "metadata": {},
   "source": [
    "#### OLS coefs"
   ]
  },
  {
   "cell_type": "code",
   "execution_count": 13,
   "id": "5e36ef1b-d1f1-4419-9a37-6e0f4d43e83c",
   "metadata": {},
   "outputs": [
    {
     "data": {
      "text/html": [
       "<table class=\"simpletable\">\n",
       "<caption>OLS Regression Results</caption>\n",
       "<tr>\n",
       "  <th>Dep. Variable:</th>     <td>review_overall</td>  <th>  R-squared:         </th> <td>   0.669</td> \n",
       "</tr>\n",
       "<tr>\n",
       "  <th>Model:</th>                   <td>OLS</td>       <th>  Adj. R-squared:    </th> <td>   0.667</td> \n",
       "</tr>\n",
       "<tr>\n",
       "  <th>Method:</th>             <td>Least Squares</td>  <th>  F-statistic:       </th> <td>   384.8</td> \n",
       "</tr>\n",
       "<tr>\n",
       "  <th>Date:</th>             <td>Sun, 13 Jun 2021</td> <th>  Prob (F-statistic):</th> <td>9.83e-226</td>\n",
       "</tr>\n",
       "<tr>\n",
       "  <th>Time:</th>                 <td>21:42:48</td>     <th>  Log-Likelihood:    </th> <td> -547.16</td> \n",
       "</tr>\n",
       "<tr>\n",
       "  <th>No. Observations:</th>      <td>   959</td>      <th>  AIC:               </th> <td>   1106.</td> \n",
       "</tr>\n",
       "<tr>\n",
       "  <th>Df Residuals:</th>          <td>   953</td>      <th>  BIC:               </th> <td>   1136.</td> \n",
       "</tr>\n",
       "<tr>\n",
       "  <th>Df Model:</th>              <td>     5</td>      <th>                     </th>     <td> </td>    \n",
       "</tr>\n",
       "<tr>\n",
       "  <th>Covariance Type:</th>      <td>nonrobust</td>    <th>                     </th>     <td> </td>    \n",
       "</tr>\n",
       "</table>\n",
       "<table class=\"simpletable\">\n",
       "<tr>\n",
       "          <td></td>             <th>coef</th>     <th>std err</th>      <th>t</th>      <th>P>|t|</th>  <th>[0.025</th>    <th>0.975]</th>  \n",
       "</tr>\n",
       "<tr>\n",
       "  <th>Intercept</th>         <td>    0.4962</td> <td>    0.098</td> <td>    5.083</td> <td> 0.000</td> <td>    0.305</td> <td>    0.688</td>\n",
       "</tr>\n",
       "<tr>\n",
       "  <th>review_aroma</th>      <td>    0.0257</td> <td>    0.031</td> <td>    0.836</td> <td> 0.403</td> <td>   -0.035</td> <td>    0.086</td>\n",
       "</tr>\n",
       "<tr>\n",
       "  <th>review_appearance</th> <td>    0.0708</td> <td>    0.028</td> <td>    2.495</td> <td> 0.013</td> <td>    0.015</td> <td>    0.126</td>\n",
       "</tr>\n",
       "<tr>\n",
       "  <th>review_palate</th>     <td>    0.1759</td> <td>    0.031</td> <td>    5.676</td> <td> 0.000</td> <td>    0.115</td> <td>    0.237</td>\n",
       "</tr>\n",
       "<tr>\n",
       "  <th>review_taste</th>      <td>    0.6850</td> <td>    0.031</td> <td>   22.210</td> <td> 0.000</td> <td>    0.624</td> <td>    0.746</td>\n",
       "</tr>\n",
       "<tr>\n",
       "  <th>beer_abv</th>          <td>   -0.0430</td> <td>    0.007</td> <td>   -6.437</td> <td> 0.000</td> <td>   -0.056</td> <td>   -0.030</td>\n",
       "</tr>\n",
       "</table>\n",
       "<table class=\"simpletable\">\n",
       "<tr>\n",
       "  <th>Omnibus:</th>       <td>32.971</td> <th>  Durbin-Watson:     </th> <td>   1.888</td>\n",
       "</tr>\n",
       "<tr>\n",
       "  <th>Prob(Omnibus):</th> <td> 0.000</td> <th>  Jarque-Bera (JB):  </th> <td>  84.534</td>\n",
       "</tr>\n",
       "<tr>\n",
       "  <th>Skew:</th>          <td> 0.018</td> <th>  Prob(JB):          </th> <td>4.40e-19</td>\n",
       "</tr>\n",
       "<tr>\n",
       "  <th>Kurtosis:</th>      <td> 4.454</td> <th>  Cond. No.          </th> <td>    75.0</td>\n",
       "</tr>\n",
       "</table><br/><br/>Notes:<br/>[1] Standard Errors assume that the covariance matrix of the errors is correctly specified."
      ],
      "text/plain": [
       "<class 'statsmodels.iolib.summary.Summary'>\n",
       "\"\"\"\n",
       "                            OLS Regression Results                            \n",
       "==============================================================================\n",
       "Dep. Variable:         review_overall   R-squared:                       0.669\n",
       "Model:                            OLS   Adj. R-squared:                  0.667\n",
       "Method:                 Least Squares   F-statistic:                     384.8\n",
       "Date:                Sun, 13 Jun 2021   Prob (F-statistic):          9.83e-226\n",
       "Time:                        21:42:48   Log-Likelihood:                -547.16\n",
       "No. Observations:                 959   AIC:                             1106.\n",
       "Df Residuals:                     953   BIC:                             1136.\n",
       "Df Model:                           5                                         \n",
       "Covariance Type:            nonrobust                                         \n",
       "=====================================================================================\n",
       "                        coef    std err          t      P>|t|      [0.025      0.975]\n",
       "-------------------------------------------------------------------------------------\n",
       "Intercept             0.4962      0.098      5.083      0.000       0.305       0.688\n",
       "review_aroma          0.0257      0.031      0.836      0.403      -0.035       0.086\n",
       "review_appearance     0.0708      0.028      2.495      0.013       0.015       0.126\n",
       "review_palate         0.1759      0.031      5.676      0.000       0.115       0.237\n",
       "review_taste          0.6850      0.031     22.210      0.000       0.624       0.746\n",
       "beer_abv             -0.0430      0.007     -6.437      0.000      -0.056      -0.030\n",
       "==============================================================================\n",
       "Omnibus:                       32.971   Durbin-Watson:                   1.888\n",
       "Prob(Omnibus):                  0.000   Jarque-Bera (JB):               84.534\n",
       "Skew:                           0.018   Prob(JB):                     4.40e-19\n",
       "Kurtosis:                       4.454   Cond. No.                         75.0\n",
       "==============================================================================\n",
       "\n",
       "Notes:\n",
       "[1] Standard Errors assume that the covariance matrix of the errors is correctly specified.\n",
       "\"\"\""
      ]
     },
     "execution_count": 13,
     "metadata": {},
     "output_type": "execute_result"
    }
   ],
   "source": [
    "model = ols(formula='review_overall ~ review_aroma + review_appearance + review_palate + review_taste + beer_abv', data=beers)  \n",
    "# Caveat: beer_abv needs to be brought on the same scale as the other features, otherwise its coef is misleading\n",
    "\n",
    "res = model.fit()\n",
    "res.summary()"
   ]
  },
  {
   "cell_type": "code",
   "execution_count": 14,
   "id": "79683412-5d4c-4df7-b6fe-22294d1ac896",
   "metadata": {},
   "outputs": [
    {
     "data": {
      "image/png": "[encoded data removed]",
      "text/plain": [
       "<Figure size 432x288 with 1 Axes>"
      ]
     },
     "metadata": {
      "needs_background": "light"
     },
     "output_type": "display_data"
    }
   ],
   "source": [
    "coef_table = res.summary().tables[1].data[2:]  # gets hold of the second - ie coef - table\n",
    "feature_and_coef_tuples = [(r[0],float(r[1])) for r in coef_table]\n",
    "plt.barh(*list(zip(*feature_and_coef_tuples)))\n",
    "plt.axvline(0, ls='--'); plt.grid()\n",
    "plt.title(\"Features and their impact on beer qlty by OLS model\");"
   ]
  },
  {
   "cell_type": "code",
   "execution_count": 15,
   "id": "723a7bdc-ff1a-4cdd-81f8-7f12a7299611",
   "metadata": {},
   "outputs": [
    {
     "data": {
      "image/png": "[encoded data removed]",
      "text/plain": [
       "<Figure size 432x288 with 1 Axes>"
      ]
     },
     "metadata": {
      "needs_background": "light"
     },
     "output_type": "display_data"
    }
   ],
   "source": [
    "plt.scatter(beers.beer_abv, beers.review_overall)\n",
    "plt.ylabel(\"review_overall\"); plt.xlabel(\"Alcohol by Volume\"); plt.grid();"
   ]
  },
  {
   "cell_type": "markdown",
   "id": "a77d93a4-d374-4eb5-aa9c-9514c1113ebd",
   "metadata": {},
   "source": [
    "##### Notes:\n",
    "- **coef**, in the above table, signifies the impact of factors on the beer qlty according to the OLS model (where **P[t]** denotes the probability that the impact is accutally due to a chance, ie the lower it is the more significant the score)"
   ]
  },
  {
   "cell_type": "markdown",
   "id": "ddd2c5b3-80da-4d70-b024-6a1f6a948cf2",
   "metadata": {},
   "source": [
    "#### Permutaion Importances"
   ]
  },
  {
   "cell_type": "code",
   "execution_count": 16,
   "id": "c0d52721-350f-42e0-aa32-805f98224c37",
   "metadata": {},
   "outputs": [
    {
     "data": {
      "image/png": "[encoded data removed]",
      "text/plain": [
       "<Figure size 432x288 with 1 Axes>"
      ]
     },
     "metadata": {
      "needs_background": "light"
     },
     "output_type": "display_data"
    }
   ],
   "source": [
    "beer_nonull = beers.dropna()\n",
    "\n",
    "X = beer_nonull[Review_Criteria[1:]]\n",
    "y = beer_nonull['review_overall']\n",
    "\n",
    "# from sklearn.linear_model import LinearRegression\n",
    "# model = LinearRegression().fit(X, y)\n",
    "model = RandomForestRegressor().fit(X, y)\n",
    "\n",
    "# calc the importances\n",
    "result = permutation_importance(model, X, y, n_repeats=10)\n",
    "\n",
    "# plot the importances\n",
    "zipped_list = list(zip(X.columns, result.importances_mean))\n",
    "unzipped_list = list(zip(*zipped_list))\n",
    "plt.barh(*unzipped_list)\n",
    "plt.grid()\n",
    "plt.title('Feature importances by feature permutaions');"
   ]
  },
  {
   "cell_type": "markdown",
   "id": "7fd2b361-076e-4b37-8ba1-83c05b16fbdb",
   "metadata": {},
   "source": [
    "#### SHAP"
   ]
  },
  {
   "cell_type": "code",
   "execution_count": 17,
   "id": "ff4d9b05-d2f4-44d1-a21b-03b36d32207a",
   "metadata": {},
   "outputs": [
    {
     "data": {
      "image/png": "[encoded data removed]",
      "text/plain": [
       "<Figure size 576x288 with 1 Axes>"
      ]
     },
     "metadata": {},
     "output_type": "display_data"
    }
   ],
   "source": [
    "import shap\n",
    "\n",
    "beer_nonull = beers.dropna()\n",
    "X = beer_nonull[Review_Criteria[1:] + ['beer_abv']]\n",
    "y = beer_nonull['review_overall']\n",
    "\n",
    "model = RandomForestRegressor().fit(X, y)\n",
    "\n",
    "explainer = shap.explainers.Exact(model.predict, X)\n",
    "shap_values = explainer(X[:1000], silent=True)\n",
    "shap.plots.bar(shap_values)"
   ]
  },
  {
   "cell_type": "markdown",
   "id": "fbd666dd-03ab-475e-90a2-ac0da05795af",
   "metadata": {},
   "source": [
    "### Beer Style Matches"
   ]
  },
  {
   "cell_type": "markdown",
   "id": "264aa112-2a87-4cb5-8978-92d64d75302e",
   "metadata": {},
   "source": [
    "Approach Plan:\n",
    "- Assumption: the question is about what style will be enjoyed the most, given aroma and appearance have the biggest significance"
   ]
  },
  {
   "cell_type": "code",
   "execution_count": 18,
   "id": "8fe63fce-8b8f-4d04-b7c0-7d863fffa707",
   "metadata": {},
   "outputs": [
    {
     "data": {
      "text/plain": [
       "'If you enjoy aroma and appeariance you should try these: Lambic - Unblended, Gueuze, English Stout'"
      ]
     },
     "execution_count": 18,
     "metadata": {},
     "output_type": "execute_result"
    }
   ],
   "source": [
    "Num_of_Recommendations = 3\n",
    "Reccomended_Beers = (beers[['beer_style','review_aroma','review_appearance']]\n",
    "                        .groupby('beer_style')\n",
    "                        .mean()\n",
    "                        .assign(enjoyment=lambda f: f.review_aroma + f.review_appearance)\n",
    "                        .sort_values(by='enjoyment', ascending=False)\n",
    "                        .head(Num_of_Recommendations)\n",
    "                        .index\n",
    "                        .tolist()\n",
    "                    )\n",
    "f\"If you enjoy aroma and appeariance you should try these: {', '.join(Reccomended_Beers)}\""
   ]
  },
  {
   "cell_type": "markdown",
   "id": "8e595ee1-4922-4c73-a9b3-b33d650158e9",
   "metadata": {},
   "source": [
    "#### THE END"
   ]
  }
 ],
 "metadata": {
  "kernelspec": {
   "display_name": "Python 3",
   "language": "python",
   "name": "python3"
  },
  "language_info": {
   "codemirror_mode": {
    "name": "ipython",
    "version": 3
   },
   "file_extension": ".py",
   "mimetype": "text/x-python",
   "name": "python",
   "nbconvert_exporter": "python",
   "pygments_lexer": "ipython3",
   "version": "3.8.10"
  }
 },
 "nbformat": 4,
 "nbformat_minor": 5
}
